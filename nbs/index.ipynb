{
 "cells": [
  {
   "cell_type": "markdown",
   "metadata": {},
   "source": [
    "# A walk with deep learning\n",
    "\n",
    "> Material of the talk \"A walk with deep learning\" by Victor Rodriguez-Fernandez and Alejandro Martin, part of the Stardust-R TS-III."
   ]
  },
  {
   "cell_type": "markdown",
   "metadata": {},
   "source": [
    "## Slides"
   ]
  },
  {
   "cell_type": "markdown",
   "metadata": {},
   "source": [
    "You can find the slides of the talk in the file <<file_name>>"
   ]
  },
  {
   "cell_type": "markdown",
   "metadata": {},
   "source": [
    "## Tutorial notebooks"
   ]
  },
  {
   "cell_type": "markdown",
   "metadata": {},
   "source": [
    "There are two tutorial notebooks in the folder `nbs`:\n",
    "- *Deep learning 101 with Pytorch & fastai*: This notebook is in the path `nbs/00_dl_101_pytorch_fastai.ipynb` "
   ]
  }
 ],
 "metadata": {
  "kernelspec": {
   "display_name": "Python 3",
   "language": "python",
   "name": "python3"
  }
 },
 "nbformat": 4,
 "nbformat_minor": 4
}
