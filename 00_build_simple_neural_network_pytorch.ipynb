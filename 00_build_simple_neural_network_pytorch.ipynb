{
 "cells": [
  {
   "cell_type": "code",
   "execution_count": null,
   "metadata": {},
   "outputs": [],
   "source": [
    "        # default_exp getting_started"
   ]
  },
  {
   "cell_type": "markdown",
   "metadata": {},
   "source": [
    "# Deep learning 101 with Pytorch and fastai\n",
    "\n",
    "> Some code and text snippets have been extracted from the book [\\\"Deep Learning for Coders with Fastai and Pytorch: AI Applications Without a PhD\\\"](https://course.fast.ai/), and from these blog posts [[ref1](https://muellerzr.github.io/fastblog/2021/02/14/Pytorchtofastai.html)]."
   ]
  },
  {
   "cell_type": "code",
   "execution_count": null,
   "metadata": {},
   "outputs": [],
   "source": [
    "#hide\n",
    "from nbdev.showdoc import *\n",
    "from fastcore.all import *"
   ]
  },
  {
   "cell_type": "code",
   "execution_count": null,
   "metadata": {},
   "outputs": [],
   "source": [
    "# export\n",
    "import torch\n",
    "from torch.utils.data import TensorDataset\n",
    "import matplotlib.pyplot as plt\n",
    "import torch.nn as nn"
   ]
  },
  {
   "cell_type": "markdown",
   "metadata": {},
   "source": [
    "## Linear regression model in Pytorch"
   ]
  },
  {
   "cell_type": "markdown",
   "metadata": {},
   "source": [
    "### Datasets and Dataloaders"
   ]
  },
  {
   "cell_type": "markdown",
   "metadata": {},
   "source": [
    "TODO:\n",
    "- What is a Tensor? talk about torch"
   ]
  },
  {
   "cell_type": "code",
   "execution_count": null,
   "metadata": {},
   "outputs": [],
   "source": [
    "# export\n",
    "def linear_function_dataset(a, b, n=100, show_plot=False):\n",
    "    r\"\"\"\n",
    "        Creates a Pytorch's `TensorDataset` with `n` random samples of the \n",
    "        linear function y = `a`*x + `b`. `show_plot` dcides whether or not to \n",
    "        plot the dataset\n",
    "    \"\"\"\n",
    "    x = torch.randn(n, 1)\n",
    "    y = a*x + b + 0.1*torch.randn(n, 1)\n",
    "    if show_plot:\n",
    "        fig = plt.figure()\n",
    "        ax = fig.add_subplot(111)\n",
    "        ax.scatter(x, y)\n",
    "    return TensorDataset(x, y)"
   ]
  },
  {
   "cell_type": "code",
   "execution_count": null,
   "metadata": {},
   "outputs": [
    {
     "data": {
      "image/png": "[encoded data removed]",
      "text/plain": [
       "<Figure size 432x288 with 1 Axes>"
      ]
     },
     "metadata": {
      "needs_background": "light"
     },
     "output_type": "display_data"
    }
   ],
   "source": [
    "a = 2\n",
    "b = 3\n",
    "n = 100\n",
    "data = linear_function_dataset(a, b, n, show_plot=True)\n",
    "test_eq(type(data), TensorDataset)"
   ]
  },
  {
   "cell_type": "markdown",
   "metadata": {},
   "source": [
    "In every machine/deep learning experiment, we need to have at least two datasets:\n",
    " - training: used to train the model\n",
    " - validation: used to validate the model after each training step. It allows to detect overfitting and adjust the hyperparameters of the model properly"
   ]
  },
  {
   "cell_type": "code",
   "execution_count": null,
   "metadata": {},
   "outputs": [],
   "source": [
    "train_ds = linear_function_dataset(a, b, n=100)\n",
    "valid_ds = linear_function_dataset(a, b, n=20)"
   ]
  },
  {
   "cell_type": "markdown",
   "metadata": {},
   "source": [
    "A dataloader combines a dataset an a sampler that samples data into **batches**, and provides an iterable over the given dataset. "
   ]
  },
  {
   "cell_type": "code",
   "execution_count": null,
   "metadata": {},
   "outputs": [],
   "source": [
    "bs = 10\n",
    "train_dl = torch.utils.data.DataLoader(train_ds, batch_size=bs, shuffle=True)\n",
    "valid_dl = torch.utils.data.DataLoader(valid_ds, batch_size=bs, shuffle=False)"
   ]
  },
  {
   "cell_type": "code",
   "execution_count": null,
   "metadata": {},
   "outputs": [
    {
     "name": "stdout",
     "output_type": "stream",
     "text": [
      "batch 1: x=torch.Size([10, 1]) (cpu), y=torch.Size([10, 1]) (cpu)\n",
      "batch 2: x=torch.Size([10, 1]) (cpu), y=torch.Size([10, 1]) (cpu)\n",
      "batch 3: x=torch.Size([10, 1]) (cpu), y=torch.Size([10, 1]) (cpu)\n",
      "batch 4: x=torch.Size([10, 1]) (cpu), y=torch.Size([10, 1]) (cpu)\n",
      "batch 5: x=torch.Size([10, 1]) (cpu), y=torch.Size([10, 1]) (cpu)\n",
      "batch 6: x=torch.Size([10, 1]) (cpu), y=torch.Size([10, 1]) (cpu)\n",
      "batch 7: x=torch.Size([10, 1]) (cpu), y=torch.Size([10, 1]) (cpu)\n",
      "batch 8: x=torch.Size([10, 1]) (cpu), y=torch.Size([10, 1]) (cpu)\n",
      "batch 9: x=torch.Size([10, 1]) (cpu), y=torch.Size([10, 1]) (cpu)\n",
      "batch 10: x=torch.Size([10, 1]) (cpu), y=torch.Size([10, 1]) (cpu)\n"
     ]
    }
   ],
   "source": [
    "for i, data in enumerate(train_dl, 1):\n",
    "    x, y = data\n",
    "    print(f'batch {i}: x={x.shape} ({x.device}), y={y.shape} ({y.device})')"
   ]
  },
  {
   "cell_type": "markdown",
   "metadata": {},
   "source": [
    "### Defining a linear regression model in Pytorch"
   ]
  },
  {
   "cell_type": "markdown",
   "metadata": {},
   "source": [
    "The class `torch.nn.Module` is the base structure for all models in Pytorch. It mostly helps to register all the trainable parameters. A module is an object of a class that inherits from the PyTorch `nn.Module` class.\n",
    "\n",
    "To implement an `nn.Module` you just need to:\n",
    "\n",
    "- Make sure the superclass __init__ is called first when you initialize it.\n",
    "- Define any parameters of the model as attributes with nn.Parameter. To tell `Module` that we want to treat a tensor as a parameter, we have to wrap it in the `nn.Parameter` class. All PyTorch modules use `nn.Parameter` for any trainable parameters. This class doesn't actually add any functionality (other than automatically calling `requires_grad`). It's only used as a \"marker\" to show what to include in parameters:\n",
    "- Define a forward function that returns the output of your model."
   ]
  },
  {
   "cell_type": "code",
   "execution_count": null,
   "metadata": {},
   "outputs": [],
   "source": [
    "#export\n",
    "class LinRegModel(nn.Module):\n",
    "    def __init__(self):\n",
    "        super().__init__()\n",
    "        self.a = nn.Parameter(torch.randn(1))\n",
    "        self.b = nn.Parameter(torch.randn(1))\n",
    "        \n",
    "    def forward(self, x): return self.a*x + self.b"
   ]
  },
  {
   "cell_type": "code",
   "execution_count": null,
   "metadata": {},
   "outputs": [
    {
     "data": {
      "text/plain": [
       "(Parameter containing:\n",
       " tensor([0.7886], requires_grad=True),\n",
       " torch.Size([1]),\n",
       " Parameter containing:\n",
       " tensor([-0.8388], requires_grad=True),\n",
       " torch.Size([1]))"
      ]
     },
     "execution_count": null,
     "metadata": {},
     "output_type": "execute_result"
    }
   ],
   "source": [
    "model = LinRegModel()\n",
    "pa, pb = model.parameters()\n",
    "pa, pa.shape, pb, pb.shape"
   ]
  },
  {
   "cell_type": "markdown",
   "metadata": {},
   "source": [
    "Objects of this class behave identically to standard Python functions, in that you can call them using parentheses and they will return the activations of a model."
   ]
  },
  {
   "cell_type": "code",
   "execution_count": null,
   "metadata": {},
   "outputs": [
    {
     "data": {
      "text/plain": [
       "(tensor([[-3.0488],\n",
       "         [ 1.1420],\n",
       "         [-0.1277],\n",
       "         [-0.3052],\n",
       "         [ 0.4786],\n",
       "         [ 0.1967],\n",
       "         [-0.8049],\n",
       "         [ 1.0162],\n",
       "         [ 0.1455],\n",
       "         [ 0.4835]]),\n",
       " torch.Size([10, 1]),\n",
       " tensor([[-3.2432],\n",
       "         [ 0.0618],\n",
       "         [-0.9395],\n",
       "         [-1.0795],\n",
       "         [-0.4614],\n",
       "         [-0.6837],\n",
       "         [-1.4736],\n",
       "         [-0.0374],\n",
       "         [-0.7241],\n",
       "         [-0.4575]], grad_fn=<AddBackward0>),\n",
       " torch.Size([10, 1]))"
      ]
     },
     "execution_count": null,
     "metadata": {},
     "output_type": "execute_result"
    }
   ],
   "source": [
    "x = torch.randn(10, 1)\n",
    "out = model(x)\n",
    "x, x.shape, out, out.shape "
   ]
  },
  {
   "cell_type": "markdown",
   "metadata": {},
   "source": [
    "### Loss function and optimizer"
   ]
  },
  {
   "cell_type": "markdown",
   "metadata": {},
   "source": [
    "The loss is the thing the machine is using as the measure of performance to decide how to update model parameters. The loss function is simple enough for a regression problem, we'll just use the Mean Square Error (MSE)"
   ]
  },
  {
   "cell_type": "code",
   "execution_count": null,
   "metadata": {},
   "outputs": [
    {
     "data": {
      "text/plain": [
       "tensor(0.7320, grad_fn=<MseLossBackward>)"
      ]
     },
     "execution_count": null,
     "metadata": {},
     "output_type": "execute_result"
    }
   ],
   "source": [
    "loss_func = nn.MSELoss()\n",
    "loss_func(x, out)"
   ]
  },
  {
   "cell_type": "markdown",
   "metadata": {},
   "source": [
    "We have data, a model, and a loss function; we only need one more thing we can fit a model, and that's an optimizer."
   ]
  },
  {
   "cell_type": "code",
   "execution_count": null,
   "metadata": {},
   "outputs": [],
   "source": [
    "opt_func = torch.optim.SGD(model.parameters(), lr = 1e-3)"
   ]
  },
  {
   "cell_type": "markdown",
   "metadata": {},
   "source": [
    "### Training loop"
   ]
  },
  {
   "cell_type": "markdown",
   "metadata": {},
   "source": [
    "During training, we need to push our model and our batches to the GPU. Calling `cuda()` on a model or a tensor this class puts all these parameters on the GPU:"
   ]
  },
  {
   "cell_type": "code",
   "execution_count": null,
   "metadata": {},
   "outputs": [],
   "source": [
    "model = model.cuda()"
   ]
  },
  {
   "cell_type": "markdown",
   "metadata": {},
   "source": [
    "To train a model, we will need to compute all the gradients of a given loss with respect to its parameters, which is known as the *backward pass*. The *forward pass* is where we compute the output of the model on a given input, based on the matrix products. PyTorch computes all the gradients we need with a magic call to `loss.backward`. The backward pass is the chain rule applied multiple times, computing the gradients from the output of our model and going back, one layer at a time. \n",
    "\n",
    "In Pytorch, Each basic function we need to differentiate is written as a `torch.autograd.Function` object that has a `forward` and a `backward` method. PyTorch will then keep trace of any computation we do to be able to properly run the backward pass, unless we set the `requires_grad` attribute of our tensors to `False`. \n",
    "\n",
    "For minibatch gradient descent (the usual way of training in deep learning), we calculate gradients on batches. Before moving onto the next batch, we modify our model's parameters based on the gradients. For each iteration through our dataset (which would be called an **epoch**), the optimizer would perform as many updates as we have batches.\n",
    "\n",
    "There are two important methods in a Pytorch optimizer:\n",
    "- `zero_grad`: In PyTorch, we need to set the gradients to zero before starting to do backpropragation because PyTorch accumulates the gradients on subsequent backward passes. `zero_grad` just loops through the parameters of the model and sets the gradients to zero. It also calls `detach_`, which removes any history of gradient computation, since it won't be needed after `zero_grad`."
   ]
  },
  {
   "cell_type": "code",
   "execution_count": null,
   "metadata": {},
   "outputs": [],
   "source": [
    "n_epochs = 10"
   ]
  },
  {
   "cell_type": "code",
   "execution_count": null,
   "metadata": {},
   "outputs": [],
   "source": [
    "def train():\n",
    "    for epoch in range(n_epochs):\n",
    "            running_loss = 0.0\n",
    "            for i, data in enumerate(train_dl, 1):\n",
    "                x, y = data\n",
    "                x = x.cuda(); y = y.cuda() # Push data to GPU\n",
    "\n",
    "                opt_func.zero_grad() # Reset gradients\n",
    "                # Forward pass\n",
    "                y_hat = model(x)\n",
    "                loss = loss_func(y_hat, y)\n",
    "                # Backward pass\n",
    "                loss.backward()\n",
    "                # Optimizer step\n",
    "                opt_func.step()\n",
    "\n",
    "                # print statistics\n",
    "                running_loss += loss.item()\n",
    "                if i % 5 == 0:    # print every 5 mini-batches\n",
    "                    print(f'[{epoch}, {i*(epoch+1)}] loss: {(running_loss/5) : .2f})')\n",
    "                    running_loss = 0.0 "
   ]
  },
  {
   "cell_type": "code",
   "execution_count": null,
   "metadata": {},
   "outputs": [
    {
     "name": "stdout",
     "output_type": "stream",
     "text": [
      "[0, 5] loss:  16.05)\n",
      "[0, 10] loss:  15.96)\n",
      "[1, 10] loss:  16.93)\n",
      "[1, 20] loss:  13.81)\n",
      "[2, 15] loss:  14.95)\n",
      "[2, 30] loss:  14.58)\n",
      "[3, 20] loss:  14.27)\n",
      "[3, 40] loss:  14.11)\n",
      "[4, 25] loss:  14.44)\n",
      "[4, 50] loss:  12.83)\n",
      "[5, 30] loss:  12.93)\n",
      "[5, 60] loss:  13.26)\n",
      "[6, 35] loss:  11.95)\n",
      "[6, 70] loss:  13.21)\n",
      "[7, 40] loss:  12.12)\n",
      "[7, 80] loss:  12.04)\n",
      "[8, 45] loss:  11.72)\n",
      "[8, 90] loss:  11.49)\n",
      "[9, 50] loss:  10.79)\n",
      "[9, 100] loss:  11.51)\n"
     ]
    }
   ],
   "source": [
    "train()"
   ]
  },
  {
   "cell_type": "markdown",
   "metadata": {},
   "source": [
    "We can see how the parameters of the regression model are getting closer to the truth values `a` and `b` from the linear function."
   ]
  },
  {
   "cell_type": "code",
   "execution_count": null,
   "metadata": {},
   "outputs": [
    {
     "data": {
      "text/plain": [
       "(#2) [('a', Parameter containing:\n",
       "tensor([1.0102], device='cuda:0', requires_grad=True)),('b', Parameter containing:\n",
       "tensor([-0.1397], device='cuda:0', requires_grad=True))]"
      ]
     },
     "execution_count": null,
     "metadata": {},
     "output_type": "execute_result"
    }
   ],
   "source": [
    "L(model.named_parameters())"
   ]
  },
  {
   "cell_type": "markdown",
   "metadata": {},
   "source": [
    "### Validating the model"
   ]
  },
  {
   "cell_type": "markdown",
   "metadata": {},
   "source": [
    "Validating the model requires only a forward pass, it's just inference. Disabling gradient calculation with the method `torch.no_grad()` is useful for inference, when you are sure that you will not call :meth:`Tensor.backward()`. "
   ]
  },
  {
   "cell_type": "code",
   "execution_count": null,
   "metadata": {},
   "outputs": [],
   "source": [
    "def validate():\n",
    "    running_loss = 0.\n",
    "    total_batches = 0\n",
    "    with torch.no_grad():\n",
    "        for data in valid_dl:\n",
    "            x, y = data\n",
    "            x = x.cuda(); y = y.cuda()\n",
    "            y_hat = model(x)\n",
    "            loss = loss_func(y_hat, y)\n",
    "            running_loss += loss.item()\n",
    "            total_batches += 1\n",
    "\n",
    "    print(f'Valid loss: {running_loss/total_batches : .2f}')"
   ]
  },
  {
   "cell_type": "code",
   "execution_count": null,
   "metadata": {},
   "outputs": [
    {
     "name": "stdout",
     "output_type": "stream",
     "text": [
      "Valid loss:  13.63\n"
     ]
    }
   ],
   "source": [
    "validate()"
   ]
  },
  {
   "cell_type": "markdown",
   "metadata": {},
   "source": [
    "## Abstracting the manual training loop: moving from Pytorch to fastai"
   ]
  },
  {
   "cell_type": "code",
   "execution_count": null,
   "metadata": {},
   "outputs": [],
   "source": [
    "from fastai.basics import *"
   ]
  },
  {
   "cell_type": "markdown",
   "metadata": {},
   "source": [
    "We can entirely replace the custom training loop with fastai's. That means you can get rid of `train()`, `validate()`, and the epoch loop in the original code, and replace it all with a couple of lines.\n",
    "\n",
    "fastai's training loop lives in a `Learner`. The Learner is the glue that merges everything together (Datasets, Dataloaders, model and optimizer) and enables to train by just calling a `fit` function.\n",
    "\n",
    "fastai's `Learner` expects DataLoaders to be used, rather than simply one DataLoader, so let's make that:"
   ]
  },
  {
   "cell_type": "code",
   "execution_count": null,
   "metadata": {},
   "outputs": [],
   "source": [
    "dls = DataLoaders(train_dl, valid_dl)"
   ]
  },
  {
   "cell_type": "code",
   "execution_count": null,
   "metadata": {},
   "outputs": [],
   "source": [
    "learn = Learner(dls, model=LinRegModel(), loss_func=nn.MSELoss(), opt_func=SGD, \n",
    "                cbs=CudaCallback)"
   ]
  },
  {
   "cell_type": "markdown",
   "metadata": {},
   "source": [
    "We also added `CudaCallback` to have the model and data moved to the GPU for us."
   ]
  },
  {
   "cell_type": "code",
   "execution_count": null,
   "metadata": {},
   "outputs": [
    {
     "data": {
      "text/html": [
       "<table border=\"1\" class=\"dataframe\">\n",
       "  <thead>\n",
       "    <tr style=\"text-align: left;\">\n",
       "      <th>epoch</th>\n",
       "      <th>train_loss</th>\n",
       "      <th>valid_loss</th>\n",
       "      <th>time</th>\n",
       "    </tr>\n",
       "  </thead>\n",
       "  <tbody>\n",
       "    <tr>\n",
       "      <td>0</td>\n",
       "      <td>14.799427</td>\n",
       "      <td>21.618435</td>\n",
       "      <td>00:00</td>\n",
       "    </tr>\n",
       "    <tr>\n",
       "      <td>1</td>\n",
       "      <td>14.511849</td>\n",
       "      <td>20.773451</td>\n",
       "      <td>00:00</td>\n",
       "    </tr>\n",
       "    <tr>\n",
       "      <td>2</td>\n",
       "      <td>14.163855</td>\n",
       "      <td>19.961390</td>\n",
       "      <td>00:00</td>\n",
       "    </tr>\n",
       "    <tr>\n",
       "      <td>3</td>\n",
       "      <td>13.840657</td>\n",
       "      <td>19.181255</td>\n",
       "      <td>00:00</td>\n",
       "    </tr>\n",
       "    <tr>\n",
       "      <td>4</td>\n",
       "      <td>13.519145</td>\n",
       "      <td>18.431583</td>\n",
       "      <td>00:00</td>\n",
       "    </tr>\n",
       "    <tr>\n",
       "      <td>5</td>\n",
       "      <td>13.158003</td>\n",
       "      <td>17.711325</td>\n",
       "      <td>00:00</td>\n",
       "    </tr>\n",
       "    <tr>\n",
       "      <td>6</td>\n",
       "      <td>12.781318</td>\n",
       "      <td>17.019287</td>\n",
       "      <td>00:00</td>\n",
       "    </tr>\n",
       "    <tr>\n",
       "      <td>7</td>\n",
       "      <td>12.449172</td>\n",
       "      <td>16.354286</td>\n",
       "      <td>00:00</td>\n",
       "    </tr>\n",
       "    <tr>\n",
       "      <td>8</td>\n",
       "      <td>12.088191</td>\n",
       "      <td>15.715406</td>\n",
       "      <td>00:00</td>\n",
       "    </tr>\n",
       "    <tr>\n",
       "      <td>9</td>\n",
       "      <td>11.705861</td>\n",
       "      <td>15.101430</td>\n",
       "      <td>00:00</td>\n",
       "    </tr>\n",
       "  </tbody>\n",
       "</table>"
      ],
      "text/plain": [
       "<IPython.core.display.HTML object>"
      ]
     },
     "metadata": {},
     "output_type": "display_data"
    }
   ],
   "source": [
    "learn.fit(10)"
   ]
  },
  {
   "cell_type": "markdown",
   "metadata": {},
   "source": [
    "## Building a simple neural network"
   ]
  },
  {
   "attachments": {
    "ca8a9fd0-9a54-48aa-ae0d-8833a2549003.png": {
     "image/png": "[encoded data removed]"
    }
   },
   "cell_type": "markdown",
   "metadata": {},
   "source": [
    "![image.png](attachment:ca8a9fd0-9a54-48aa-ae0d-8833a2549003.png)"
   ]
  },
  {
   "cell_type": "code",
   "execution_count": null,
   "metadata": {},
   "outputs": [],
   "source": [
    "# export\n",
    "def nonlinear_function_dataset(n=100, show_plot=False):\n",
    "    r\"\"\"\n",
    "        Creates a Pytorch's `TensorDataset` with `n` random samples of the \n",
    "        nonlinear function y = (-1/100)*x**7 -x**4 -2*x**2 -4*x + 1 with a bit \n",
    "        of noise. `show_plot` decides whether or not to plot the dataset\n",
    "    \"\"\"\n",
    "    x = torch.rand(n, 1)*20 - 10 # Random values between [-10 and 10]\n",
    "    y = (-1/100)*x**7 -x**4 -2*x**2 -4*x + 1 + 0.1*torch.randn(n, 1)\n",
    "    if show_plot:\n",
    "        fig = plt.figure()\n",
    "        ax = fig.add_subplot(111)\n",
    "        ax.scatter(x, y)\n",
    "    return TensorDataset(x, y)"
   ]
  },
  {
   "cell_type": "code",
   "execution_count": null,
   "metadata": {},
   "outputs": [
    {
     "data": {
      "image/png": "[encoded data removed]",
      "text/plain": [
       "<Figure size 432x288 with 1 Axes>"
      ]
     },
     "metadata": {
      "needs_background": "light"
     },
     "output_type": "display_data"
    }
   ],
   "source": [
    "n = 100\n",
    "ds = nonlinear_function_dataset(n, show_plot=True)\n",
    "x, y = ds.tensors\n",
    "test_eq(x.shape, y.shape)"
   ]
  },
  {
   "cell_type": "markdown",
   "metadata": {},
   "source": [
    "We will create the trainin and test dataset, and build the Dataloaders with them, this time directly in fastai, using the `Dataloaders.from_dsets` method."
   ]
  },
  {
   "cell_type": "code",
   "execution_count": null,
   "metadata": {},
   "outputs": [],
   "source": [
    "train_ds = nonlinear_function_dataset(n=1000)\n",
    "valid_ds = nonlinear_function_dataset(n=200)"
   ]
  },
  {
   "cell_type": "markdown",
   "metadata": {},
   "source": [
    "TODO: Explain normalization\n",
    "\n",
    "We will normalize the data based on the mean and std of the train dataset"
   ]
  },
  {
   "cell_type": "code",
   "execution_count": null,
   "metadata": {},
   "outputs": [],
   "source": [
    "train_mean = train_ds.tensors[0].mean()\n",
    "train_std = train_ds.tensors[0].std()"
   ]
  },
  {
   "cell_type": "code",
   "execution_count": null,
   "metadata": {},
   "outputs": [],
   "source": [
    "dls = DataLoaders.from_dsets(train_ds, valid_ds, bs = 32, \n",
    "                             batch_tfms=[lambda x: (x-train_mean)/train_std])"
   ]
  },
  {
   "cell_type": "markdown",
   "metadata": {},
   "source": [
    "We will build a Multi Layer Perceptron with 3 hidden layers. These networks are also known as Feed-Forward Neural Networks. The layers aof this type of networks are known as Fully Connected Layers, because, between every subsequent pair of layers, all the neurons are connected to each other."
   ]
  },
  {
   "attachments": {
    "728619ae-1705-4994-81e0-ed5f934868b1.png": {
     "image/png": "[encoded data removed]"
    }
   },
   "cell_type": "markdown",
   "metadata": {},
   "source": [
    "![draftsheet (1).png](attachment:728619ae-1705-4994-81e0-ed5f934868b1.png)"
   ]
  },
  {
   "cell_type": "markdown",
   "metadata": {},
   "source": [
    "The easiest way of wrapping several layers in Pytorch is using the `nn.Sequential` module. It creates a module with a `forward` method that will call each of the listed layers or functions in turn, without us having to do the loop manually in the forward pass."
   ]
  },
  {
   "cell_type": "code",
   "execution_count": null,
   "metadata": {},
   "outputs": [],
   "source": [
    "#export\n",
    "class MLP3(nn.Module):\n",
    "    def __init__(self, n_in=1, nh1=200, nh2=100, nh3=50, n_out=1):\n",
    "        super().__init__()\n",
    "        self.layers = nn.Sequential(\n",
    "            nn.Linear(n_in, nh1),\n",
    "            nn.ReLU(), \n",
    "            nn.Linear(nh1, nh2),\n",
    "            nn.ReLU(),\n",
    "            nn.Linear(nh2, nh3),\n",
    "            nn.ReLU(),\n",
    "            nn.Linear(nh3, n_out)\n",
    "        )\n",
    "        \n",
    "    def forward(self, x): return self.layers(x)"
   ]
  },
  {
   "cell_type": "code",
   "execution_count": null,
   "metadata": {},
   "outputs": [
    {
     "data": {
      "text/plain": [
       "torch.Size([32, 1])"
      ]
     },
     "execution_count": null,
     "metadata": {},
     "output_type": "execute_result"
    }
   ],
   "source": [
    "x, y = dls.one_batch()\n",
    "model = MLP3()\n",
    "output = model(x)\n",
    "output.shape"
   ]
  },
  {
   "cell_type": "code",
   "execution_count": null,
   "metadata": {},
   "outputs": [],
   "source": [
    "learn = Learner(dls, MLP3(), loss_func=nn.MSELoss(), opt_func=Adam)"
   ]
  },
  {
   "cell_type": "code",
   "execution_count": null,
   "metadata": {},
   "outputs": [
    {
     "data": {
      "text/html": [
       "<table border=\"1\" class=\"dataframe\">\n",
       "  <thead>\n",
       "    <tr style=\"text-align: left;\">\n",
       "      <th>epoch</th>\n",
       "      <th>train_loss</th>\n",
       "      <th>valid_loss</th>\n",
       "      <th>time</th>\n",
       "    </tr>\n",
       "  </thead>\n",
       "  <tbody>\n",
       "    <tr>\n",
       "      <td>0</td>\n",
       "      <td>20769340.000000</td>\n",
       "      <td>26672584.000000</td>\n",
       "      <td>00:00</td>\n",
       "    </tr>\n",
       "    <tr>\n",
       "      <td>1</td>\n",
       "      <td>20387180.000000</td>\n",
       "      <td>26516528.000000</td>\n",
       "      <td>00:00</td>\n",
       "    </tr>\n",
       "    <tr>\n",
       "      <td>2</td>\n",
       "      <td>19997924.000000</td>\n",
       "      <td>26041528.000000</td>\n",
       "      <td>00:00</td>\n",
       "    </tr>\n",
       "    <tr>\n",
       "      <td>3</td>\n",
       "      <td>19607662.000000</td>\n",
       "      <td>24985402.000000</td>\n",
       "      <td>00:00</td>\n",
       "    </tr>\n",
       "    <tr>\n",
       "      <td>4</td>\n",
       "      <td>18456960.000000</td>\n",
       "      <td>23178926.000000</td>\n",
       "      <td>00:00</td>\n",
       "    </tr>\n",
       "    <tr>\n",
       "      <td>5</td>\n",
       "      <td>17471142.000000</td>\n",
       "      <td>20753264.000000</td>\n",
       "      <td>00:00</td>\n",
       "    </tr>\n",
       "    <tr>\n",
       "      <td>6</td>\n",
       "      <td>15821976.000000</td>\n",
       "      <td>17960392.000000</td>\n",
       "      <td>00:00</td>\n",
       "    </tr>\n",
       "    <tr>\n",
       "      <td>7</td>\n",
       "      <td>14110140.000000</td>\n",
       "      <td>15290624.000000</td>\n",
       "      <td>00:00</td>\n",
       "    </tr>\n",
       "    <tr>\n",
       "      <td>8</td>\n",
       "      <td>12492563.000000</td>\n",
       "      <td>13375712.000000</td>\n",
       "      <td>00:00</td>\n",
       "    </tr>\n",
       "    <tr>\n",
       "      <td>9</td>\n",
       "      <td>11238039.000000</td>\n",
       "      <td>12288076.000000</td>\n",
       "      <td>00:00</td>\n",
       "    </tr>\n",
       "  </tbody>\n",
       "</table>"
      ],
      "text/plain": [
       "<IPython.core.display.HTML object>"
      ]
     },
     "metadata": {},
     "output_type": "display_data"
    }
   ],
   "source": [
    "learn.fit(10, lr=1e-3)"
   ]
  }
 ],
 "metadata": {
  "kernelspec": {
   "display_name": "Python 3",
   "language": "python",
   "name": "python3"
  }
 },
 "nbformat": 4,
 "nbformat_minor": 4
}
