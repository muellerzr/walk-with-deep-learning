{
 "cells": [
  {
   "cell_type": "code",
   "execution_count": null,
   "metadata": {},
   "outputs": [],
   "source": [
    "# default_exp getting_started"
   ]
  },
  {
   "cell_type": "markdown",
   "metadata": {},
   "source": [
    "# Building a simple neural network with Pytorch\n",
    "\n",
    "> API details."
   ]
  },
  {
   "cell_type": "code",
   "execution_count": null,
   "metadata": {},
   "outputs": [],
   "source": [
    "#hide\n",
    "from nbdev.showdoc import *\n",
    "from fastcore.all import *"
   ]
  },
  {
   "cell_type": "code",
   "execution_count": null,
   "metadata": {},
   "outputs": [],
   "source": [
    "# export\n",
    "import torch\n",
    "from torch.utils.data import TensorDataset\n",
    "import matplotlib.pyplot as plt\n",
    "import torch.nn as nn"
   ]
  },
  {
   "cell_type": "markdown",
   "metadata": {},
   "source": [
    "## Datasets and Dataloaders"
   ]
  },
  {
   "cell_type": "markdown",
   "metadata": {},
   "source": [
    "TODO:\n",
    "- What is a Tensor? talk about torch"
   ]
  },
  {
   "cell_type": "code",
   "execution_count": null,
   "metadata": {},
   "outputs": [],
   "source": [
    "# export\n",
    "def linear_function_dataset(a, b, n=100, show_plot=False):\n",
    "    r\"\"\"\n",
    "        Creates a Pytorch's `TensorDataset` with `n` random samples of the \n",
    "        linear function y = `a`*x + `b`. `show_plot` dcides whether or not to \n",
    "        plot the dataset\n",
    "    \"\"\"\n",
    "    x = torch.randn(n, 1)\n",
    "    y = a*x + b + 0.1*torch.randn(n, 1)\n",
    "    if show_plot:\n",
    "        fig = plt.figure()\n",
    "        ax = fig.add_subplot(111)\n",
    "        ax.scatter(x, y)\n",
    "    return TensorDataset(x, y)"
   ]
  },
  {
   "cell_type": "code",
   "execution_count": null,
   "metadata": {},
   "outputs": [
    {
     "data": {
      "image/png": "[encoded data removed]",
      "text/plain": [
       "<Figure size 432x288 with 1 Axes>"
      ]
     },
     "metadata": {
      "needs_background": "light"
     },
     "output_type": "display_data"
    }
   ],
   "source": [
    "a = 2\n",
    "b = 3\n",
    "n = 100\n",
    "data = linear_function_dataset(a, b, n, show_plot=True)\n",
    "test_eq(type(data), TensorDataset)"
   ]
  },
  {
   "cell_type": "markdown",
   "metadata": {},
   "source": [
    "In every machine/deep learning experiment, we need to have at least two datasets:\n",
    " - training: used to train the model\n",
    " - validation: used to validate the model after each training step. It allows to detect overfitting and adjust the hyperparameters of the model properly"
   ]
  },
  {
   "cell_type": "code",
   "execution_count": null,
   "metadata": {},
   "outputs": [],
   "source": [
    "train_ds = linear_function_dataset(a, b, n=100)\n",
    "valid_ds = linear_function_dataset(a, b, n=20)"
   ]
  },
  {
   "cell_type": "markdown",
   "metadata": {},
   "source": [
    "A dataloader combines a dataset an a sampler that samples data into **batches**, and provides an iterable over the given dataset. "
   ]
  },
  {
   "cell_type": "code",
   "execution_count": null,
   "metadata": {},
   "outputs": [],
   "source": [
    "bs = 10\n",
    "train_dl = torch.utils.data.DataLoader(train_ds, batch_size=bs, shuffle=True)\n",
    "valid_dl = torch.utils.data.DataLoader(valid_ds, batch_size=bs, shuffle=False)"
   ]
  },
  {
   "cell_type": "code",
   "execution_count": null,
   "metadata": {},
   "outputs": [
    {
     "name": "stdout",
     "output_type": "stream",
     "text": [
      "batch 1: x=torch.Size([10, 1]) (cpu), y=torch.Size([10, 1]) (cpu)\n",
      "batch 2: x=torch.Size([10, 1]) (cpu), y=torch.Size([10, 1]) (cpu)\n",
      "batch 3: x=torch.Size([10, 1]) (cpu), y=torch.Size([10, 1]) (cpu)\n",
      "batch 4: x=torch.Size([10, 1]) (cpu), y=torch.Size([10, 1]) (cpu)\n",
      "batch 5: x=torch.Size([10, 1]) (cpu), y=torch.Size([10, 1]) (cpu)\n",
      "batch 6: x=torch.Size([10, 1]) (cpu), y=torch.Size([10, 1]) (cpu)\n",
      "batch 7: x=torch.Size([10, 1]) (cpu), y=torch.Size([10, 1]) (cpu)\n",
      "batch 8: x=torch.Size([10, 1]) (cpu), y=torch.Size([10, 1]) (cpu)\n",
      "batch 9: x=torch.Size([10, 1]) (cpu), y=torch.Size([10, 1]) (cpu)\n",
      "batch 10: x=torch.Size([10, 1]) (cpu), y=torch.Size([10, 1]) (cpu)\n"
     ]
    }
   ],
   "source": [
    "for i, data in enumerate(train_dl, 1):\n",
    "    x, y = data\n",
    "    print(f'batch {i}: x={x.shape} ({x.device}), y={y.shape} ({y.device})')"
   ]
  },
  {
   "cell_type": "markdown",
   "metadata": {},
   "source": [
    "### Defining a Pytorch model"
   ]
  },
  {
   "cell_type": "code",
   "execution_count": null,
   "metadata": {},
   "outputs": [],
   "source": [
    "#export\n",
    "class LinRegModel(nn.Module):\n",
    "    def __init__(self): \n",
    "        self.a = nn.Parameter(torch.randn(1))\n",
    "        self.b = nn.Parameter(torch.randn(1))\n",
    "    def forward(self, x): \n",
    "        return x*self.a + self.b"
   ]
  },
  {
   "cell_type": "code",
   "execution_count": null,
   "metadata": {},
   "outputs": [],
   "source": []
  }
 ],
 "metadata": {
  "kernelspec": {
   "display_name": "Python 3",
   "language": "python",
   "name": "python3"
  }
 },
 "nbformat": 4,
 "nbformat_minor": 4
}
